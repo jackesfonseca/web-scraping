{
  "cells": [
    {
      "cell_type": "code",
      "execution_count": 1,
      "metadata": {
        "id": "zB__ur2Pdcf0"
      },
      "outputs": [],
      "source": [
        "import urllib\n",
        "import requests\n",
        "import re\n",
        "import pandas as pd\n",
        "import sys\n",
        "import chardet\n",
        "from google.colab import files"
      ]
    },
    {
      "cell_type": "code",
      "execution_count": 2,
      "metadata": {
        "id": "eQxOwM4udjwz"
      },
      "outputs": [],
      "source": [
        "url = 'https://dadosabertos.aneel.gov.br/dataset/3e153db4-a503-4093-88be-75d31b002dcf'  "
      ]
    },
    {
      "cell_type": "code",
      "execution_count": 3,
      "metadata": {
        "colab": {
          "base_uri": "https://localhost:8080/"
        },
        "id": "HduyURpqqytR",
        "outputId": "50fb2312-11fd-464a-cf9c-08a16136bbb6"
      },
      "outputs": [
        {
          "output_type": "execute_result",
          "data": {
            "text/plain": [
              "b'<!DOCTYPE html>\\n<!--[if IE 9]> <html lang=\"pt_BR\" class=\"ie9\"> <![endif]-->\\n<!--[if gt IE 8]><!--> <html lang=\"pt_BR\"> <!--<![endif]-->\\n  <head>\\n    <meta charset=\"utf-8\" />\\n      <meta name=\"generator\" content=\"ckan 2.9.4\" />\\n      <meta name=\"viewport\" content=\"width=device-width, initial-scale=1.0\">\\n    <title>SAMP - Sistema de Acompanhamento de Informa\\xc3\\xa7\\xc3\\xb5es de Mercado para Regula\\xc3\\xa7\\xc3\\xa3o Econ\\xc3\\xb4mica - Conjunto de dados - Dados Abertos - Ag\\xc3\\xaancia Nacional de Energia El\\xc3\\xa9trica</title>\\n\\n    \\n    <link rel=\"shortcut icon\" href=\"/base/images/ckan.ico\" />\\n    \\n      \\n      \\n      \\n      \\n    \\n\\n    \\n      \\n      \\n    \\n  \\n  <meta property=\"og:title\" content=\"SAMP - Sistema de Acompanhamento de Informa\\xc3\\xa7\\xc3\\xb5es de Mercado para Regula\\xc3\\xa7\\xc3\\xa3o Econ\\xc3\\xb4mica - Dados Abertos - Ag\\xc3\\xaancia Nacional de Energia El\\xc3\\xa9trica\">\\n  <meta property=\"og:description\" content=\"Informa\\xc3\\xa7\\xc3\\xb5es do mercado de energia el\\xc3\\xa9trica, declaradas pelas concession\\xc3\\xa1rias e permission\\xc3\\xa1rias de distribui\\xc3\\xa7\\xc3\\xa3o, conforme crit\\xc3\\xa9rios definidos na RESOLU\\xc3\\x87\\xc3\\x83O NORMATIVA ANEEL N\\xc2\\xba 1.003, DE 1\\xc2\\xba DE...\">\\n\\n\\n    \\n    <link href=\"/webassets/base/4930eb44_main.css\" rel=\"stylesheet\"/><style>\\n        /* Remover foto em destaque */\\r\\n.homepage section.featured.media-overlay {\\r\\ndisplay: none;\\r\\n}\\r\\n\\r\\n.account-masthead {\\r\\ndisplay: none;\\r\\n}\\n      </style>\\n    \\n  </head>\\n\\n  \\n  <body data-site-root=\"https://dadosabertos.aneel.gov.br/\" data-locale-root=\"https://dadosabertos.aneel.gov.br/\" >\\n\\n    \\n    <div class=\"sr-only sr-only-focusable\"><a href=\"#content\">Pular para o conte\\xc3\\xbado</a></div>\\n  \\n\\n  \\n     \\n<div class=\"account-masthead\">\\n  <div class=\"container\">\\n     \\n    <nav class=\"account not-authed\" aria-label=\"Account\">\\n      <ul class=\"list-unstyled\">\\n        \\n        <li><a href=\"/user/login\">Entrar</a></li>\\n         \\n      </ul>\\n    </nav>\\n     \\n  </div>\\n</div>\\n\\n<header class=\"navbar navbar-static-top masthead\">\\n    \\n  <div class=\"container\">\\n    <div class=\"navbar-right\">\\n      <button data-target=\"#main-navigation-toggle\" data-toggle=\"collapse\" class=\"navbar-toggle collapsed\" type=\"button\" aria-label=\"expand or collapse\" aria-expanded=\"false\">\\n        <span class=\"sr-only\">Toggle navigation</span>\\n        <span class=\"fa fa-bars\"></span>\\n      </button>\\n    </div>\\n    <hgroup class=\"header-image navbar-left\">\\n       \\n      <a class=\"logo\" href=\"/\"><img src=\"https://dadosabertos.aneel.gov.br/uploads/admin/2021-11-30-200336.148191MARCAS-ANEEL-021.png\" alt=\"Dados Abertos - Ag\\xc3\\xaancia Nacional de Energia El\\xc3\\xa9trica\" title=\"Dados Abertos - Ag\\xc3\\xaancia Nacional de Energia El\\xc3\\xa9trica\" /></a>\\n       \\n    </hgroup>\\n\\n    <div class=\"collapse navbar-collapse\" id=\"main-navigation-toggle\">\\n      \\n      <nav class=\"section navigation\">\\n        <ul class=\"nav nav-pills\">\\n            \\n\\t\\t<li><a href=\"/dataset/\">Conjuntos de dados</a></li><li><a href=\"/organization/\">Organiza\\xc3\\xa7\\xc3\\xb5es</a></li><li><a href=\"/group/\">Grupos</a></li><li><a href=\"/about\">Sobre</a></li>\\n\\t    \\n        </ul>\\n      </nav>\\n       \\n      <form class=\"section site-search simple-input\" action=\"/dataset/\" method=\"get\">\\n        <div class=\"field\">\\n          <label for=\"field-sitewide-search\">Buscar conjunto de dados</label>\\n          <input id=\"field-sitewide-search\" type=\"text\" class=\"form-control\" name=\"q\" placeholder=\"Pesquisar\" aria-label=\"Search datasets\"/>\\n          <button class=\"btn-search\" type=\"submit\" aria-label=\"Submit\"><i class=\"fa fa-search\"></i></button>\\n        </div>\\n      </form>\\n      \\n    </div>\\n  </div>\\n</header>\\n\\n  \\n    <div class=\"main\">\\n      <div id=\"content\" class=\"container\">\\n        \\n          \\n            <div class=\"flash-messages\">\\n              \\n                \\n              \\n            </div>\\n          \\n\\n          \\n            <div class=\"toolbar\" role=\"navigation\" aria-label=\"Breadcrumb\">\\n              \\n                \\n                  <ol class=\"breadcrumb\">\\n                    \\n<li class=\"home\"><a href=\"/\" aria-label=\"In\\xc3\\xadcio\"><i class=\"fa fa-home\"></i><span> In\\xc3\\xadcio</span></a></li>\\n                    \\n  \\n    \\n    \\n      \\n      \\n      <li><a href=\"/organization/\">Organiza\\xc3\\xa7\\xc3\\xb5es</a></li>\\n      <li><a href=\"/organization/agencia-nacional-de-energia-eletrica\">Ag\\xc3\\xaancia Nacional de...</a></li>\\n    \\n    <li class=\"active\"><a href=\"/dataset/samp\">SAMP - Sistema de...</a></li>\\n  \\n\\n                  </ol>\\n                \\n              \\n            </div>\\n          \\n\\n          <div class=\"row wrapper\">\\n            \\n            \\n            \\n\\n            \\n              <aside class=\"secondary col-sm-3\">\\n                \\n                \\n\\n  \\n\\n  \\n    \\n\\n  \\n    <section class=\"module module-narrow\">\\n      <div class=\"module context-info\">\\n        <div class=\"module-content\">\\n          \\n            \\n              <h1 class=\"heading\">SAMP - Sistema de Acompanhamento de Informa\\xc3\\xa7\\xc3\\xb5es de Mercado para Regula\\xc3\\xa7\\xc3\\xa3o Econ\\xc3\\xb4mica</h1>\\n            \\n            \\n              \\n              <div class=\"nums\">\\n                <dl>\\n                  <dt>Seguidores</dt>\\n                  <dd data-module=\"followers-counter\" data-module-id=\"3e153db4-a503-4093-88be-75d31b002dcf\" data-module-num_followers=\"0\"><span>0</span></dd>\\n                </dl>\\n              </div>\\n            \\n            \\n              \\n                <div class=\"follow_button\">\\n                  \\n                </div>\\n              \\n            \\n          \\n        </div>\\n      </div>\\n    </section>\\n  \\n\\n  \\n\\n  \\n    \\n      \\n      \\n\\n\\n\\n\\n  \\n  <div class=\"module module-narrow module-shallow context-info\">\\n    \\n      <h2 class=\"module-heading\"><i class=\"fa fa-building-o\"></i> Organiza\\xc3\\xa7\\xc3\\xa3o</h2>\\n    \\n    <section class=\"module-content\">\\n      \\n      \\n        <div class=\"image\">\\n          <a href=\"/organization/agencia-nacional-de-energia-eletrica\">\\n            <img src=\"https://dadosabertos.aneel.gov.br/uploads/group/2022-08-23-193719.950953MARCAS-ANEEL-022.png\" width=\"200\" alt=\"agencia-nacional-de-energia-eletrica\" />\\n          </a>\\n        </div>\\n      \\n      \\n      <h1 class=\"heading\">Ag\\xc3\\xaancia Nacional de Energia El\\xc3\\xa9trica\\n        \\n      </h1>\\n      \\n      \\n      \\n        <p class=\"description\">\\n          A Ag\\xc3\\xaancia Nacional de Energia El\\xc3\\xa9trica (ANEEL), autarquia em regime especial vinculada ao Minist\\xc3\\xa9rio de Minas e Energia, foi criada para regular o setor el\\xc3\\xa9trico brasileiro, por...\\n        </p>\\n        <p class=\"read-more\">\\n          <a href=\"/organization/about/agencia-nacional-de-energia-eletrica\">Leia mais</a>\\n        </p>\\n      \\n      \\n      \\n      \\n    </section>\\n  </div>\\n  \\n    \\n  \\n\\n  \\n    \\n\\n  <section class=\"module module-narrow social\">\\n    \\n      <h2 class=\"module-heading\"><i class=\"fa fa-share-square-o\"></i> Social</h2>\\n    \\n    \\n      <ul class=\"nav nav-simple\">\\n        <li class=\"nav-item\"><a href=\"https://twitter.com/share?url=https://dadosabertos.aneel.gov.br/dataset/samp\" target=\"_blank\"><i class=\"fa fa-twitter-square\"></i> Twitter</a></li>\\n        <li class=\"nav-item\"><a href=\"https://www.facebook.com/sharer.php?u=https://dadosabertos.aneel.gov.br/dataset/samp\" target=\"_blank\"><i class=\"fa fa-facebook-square\"></i> Facebook</a></li>\\n      </ul>\\n    \\n  </section>\\n\\n  \\n\\n  \\n    \\n\\n\\n  \\n      \\n        <section class=\"module module-narrow module-shallow license\">\\n          \\n            <h2 class=\"module-heading\"><i class=\"fa fa-lock\"></i> Licen\\xc3\\xa7a</h2>\\n          \\n          \\n            <p class=\"module-content\">\\n              \\n                \\n  \\n    <a href=\"http://www.opendefinition.org/licenses/odc-odbl\" rel=\"dc:rights\">Open Data Commons Open Database License (ODbL)</a>\\n  \\n\\n                \\n                  <a href=\"http://opendefinition.org/okd/\" title=\"Este conjunto de dados satisfaz a Defini\\xc3\\xa7\\xc3\\xa3o de Aberto - Open Definition.\">\\n                      <img class=\"open-data\" src=\"/base/images/od_80x15_blue.png\" alt=\"[Open Data]\" />\\n                  </a>\\n                \\n              \\n            </p>\\n          \\n        </section>\\n      \\n  \\n\\n  \\n\\n\\n              </aside>\\n            \\n\\n            \\n              <div class=\"primary col-sm-9 col-xs-12\" role=\"main\">\\n                \\n                \\n                  <article class=\"module\">\\n                    \\n                      <header class=\"module-content page-header\">\\n                        \\n                        <ul class=\"nav nav-tabs\">\\n                          \\n  <li class=\"active\"><a href=\"/dataset/samp\"><i class=\"fa fa-sitemap\"></i> Conjunto de dados</a></li>\\n  <li><a href=\"/dataset/groups/samp\"><i class=\"fa fa-users\"></i> Grupos</a></li>\\n  <li><a href=\"/dataset/activity/samp\"><i class=\"fa fa-clock-o\"></i> Fluxo de Atividades</a></li>\\n\\n                        </ul>\\n                      </header>\\n                    \\n                    <div class=\"module-content\">\\n                      \\n                      \\n  \\n                      \\n  \\n    \\n    \\n      \\n    \\n    <h1>\\n      \\n        SAMP - Sistema de Acompanhamento de Informa\\xc3\\xa7\\xc3\\xb5es de Mercado para Regula\\xc3\\xa7\\xc3\\xa3o Econ\\xc3\\xb4mica\\n        \\n        \\n      \\n    </h1>\\n    \\n      \\n        <div class=\"notes embedded-content\">\\n          <p>Informa\\xc3\\xa7\\xc3\\xb5es do mercado de energia el\\xc3\\xa9trica, declaradas pelas concession\\xc3\\xa1rias e permission\\xc3\\xa1rias de distribui\\xc3\\xa7\\xc3\\xa3o, conforme crit\\xc3\\xa9rios definidos na <a href=\"https://www2.aneel.gov.br/cedoc/ren20221003.pdf\">RESOLU\\xc3\\x87\\xc3\\x83O NORMATIVA ANEEL N\\xc2\\xba 1.003, DE 1\\xc2\\xba DE FEVEREIRO DE 2022</a>.</p>\\n        </div>\\n      \\n    \\n    \\n    <span class=\"insert-comment-thread\"></span>\\n  \\n\\n  \\n    \\n<section id=\"dataset-resources\" class=\"resources\">\\n  <h2>Dados e recursos</h2>\\n  \\n    \\n      <ul class=\"resource-list\">\\n        \\n          \\n          \\n            \\n\\n\\n\\n<li class=\"resource-item\" data-id=\"7dbb8074-9168-4e11-9380-1aab3c9ebba3\">\\n  \\n  <a class=\"heading\" href=\"/dataset/samp/resource/7dbb8074-9168-4e11-9380-1aab3c9ebba3\" title=\"Dicion\\xc3\\xa1rio de dados\">\\n    Dicion\\xc3\\xa1rio de dados<span class=\"format-label\" property=\"dc:format\" data-format=\"pdf\">PDF</span>\\n    \\n\\n<span class=\"popular ckan-icon ckan-icon-flame\" title=\"82 visualiza\\xc3\\xa7\\xc3\\xb5es\" xmlns=\"http://www.w3.org/1999/xhtml\">Popular</span>\\n\\n  </a>\\n  \\n  \\n    <p class=\"description\">\\n      \\n    </p>\\n  \\n  \\n  \\n  <div class=\"dropdown btn-group\">\\n    <a href=\"#\" class=\"btn btn-primary dropdown-toggle\" data-toggle=\"dropdown\">\\n      <i class=\"fa fa-share\"></i>\\n      Explorar\\n      <span class=\"caret\"></span>\\n    </a>\\n    <ul class=\"dropdown-menu\">\\n      \\n      <li>\\n        <a href=\"/dataset/samp/resource/7dbb8074-9168-4e11-9380-1aab3c9ebba3\">\\n          \\n            <i class=\"fa fa-bar-chart-o\"></i>\\n            Pr\\xc3\\xa9-visualiza\\xc3\\xa7\\xc3\\xa3o\\n          \\n        </a>\\n      </li>\\n      \\n      <li>\\n        <a href=\"https://dadosabertos.aneel.gov.br/dataset/3e153db4-a503-4093-88be-75d31b002dcf/resource/7dbb8074-9168-4e11-9380-1aab3c9ebba3/download/dd-samp.pdf\" class=\"resource-url-analytics\" target=\"_blank\">\\n          \\n            <i class=\"fa fa-arrow-circle-o-down\"></i>\\n            Baixar\\n          \\n        </a>\\n      </li>\\n      \\n      \\n      \\n    </ul>\\n  </div>\\n  \\n  \\n</li>\\n          \\n            \\n\\n\\n\\n<li class=\"resource-item\" data-id=\"349ca6b0-8e1b-4e1e-991d-b3d9edf6e368\">\\n  \\n  <a class=\"heading\" href=\"/dataset/samp/resource/349ca6b0-8e1b-4e1e-991d-b3d9edf6e368\" title=\"samp-2003.csv\">\\n    samp-2003.csv<span class=\"format-label\" property=\"dc:format\" data-format=\"csv\">CSV</span>\\n    \\n\\n<span class=\"popular ckan-icon ckan-icon-flame\" title=\"57 visualiza\\xc3\\xa7\\xc3\\xb5es\" xmlns=\"http://www.w3.org/1999/xhtml\">Popular</span>\\n\\n  </a>\\n  \\n  \\n    <p class=\"description\">\\n      \\n        Este conjunto de dados visa apresentar os dados de mercado das distribuidoras...\\n      \\n    </p>\\n  \\n  \\n  \\n  <div class=\"dropdown btn-group\">\\n    <a href=\"#\" class=\"btn btn-primary dropdown-toggle\" data-toggle=\"dropdown\">\\n      <i class=\"fa fa-share\"></i>\\n      Explorar\\n      <span class=\"caret\"></span>\\n    </a>\\n    <ul class=\"dropdown-menu\">\\n      \\n      <li>\\n        <a href=\"/dataset/samp/resource/349ca6b0-8e1b-4e1e-991d-b3d9edf6e368\">\\n          \\n            <i class=\"fa fa-bar-chart-o\"></i>\\n            Pr\\xc3\\xa9-visualiza\\xc3\\xa7\\xc3\\xa3o\\n          \\n        </a>\\n      </li>\\n      \\n      <li>\\n        <a href=\"https://dadosabertos.aneel.gov.br/dataset/3e153db4-a503-4093-88be-75d31b002dcf/resource/349ca6b0-8e1b-4e1e-991d-b3d9edf6e368/download/samp-2003.csv\" class=\"resource-url-analytics\" target=\"_blank\">\\n          \\n            <i class=\"fa fa-arrow-circle-o-down\"></i>\\n            Baixar\\n          \\n        </a>\\n      </li>\\n      \\n      \\n      \\n    </ul>\\n  </div>\\n  \\n  \\n</li>\\n          \\n            \\n\\n\\n\\n<li class=\"resource-item\" data-id=\"620bd3ee-7ad4-4e23-ae64-251e22a58303\">\\n  \\n  <a class=\"heading\" href=\"/dataset/samp/resource/620bd3ee-7ad4-4e23-ae64-251e22a58303\" title=\"samp-2004.csv\">\\n    samp-2004.csv<span class=\"format-label\" property=\"dc:format\" data-format=\"csv\">CSV</span>\\n    \\n\\n<span class=\"popular ckan-icon ckan-icon-flame\" title=\"19 visualiza\\xc3\\xa7\\xc3\\xb5es\" xmlns=\"http://www.w3.org/1999/xhtml\">Popular</span>\\n\\n  </a>\\n  \\n  \\n    <p class=\"description\">\\n      \\n        Este conjunto de dados visa apresentar os dados de mercado das distribuidoras...\\n      \\n    </p>\\n  \\n  \\n  \\n  <div class=\"dropdown btn-group\">\\n    <a href=\"#\" class=\"btn btn-primary dropdown-toggle\" data-toggle=\"dropdown\">\\n      <i class=\"fa fa-share\"></i>\\n      Explorar\\n      <span class=\"caret\"></span>\\n    </a>\\n    <ul class=\"dropdown-menu\">\\n      \\n      <li>\\n        <a href=\"/dataset/samp/resource/620bd3ee-7ad4-4e23-ae64-251e22a58303\">\\n          \\n            <i class=\"fa fa-bar-chart-o\"></i>\\n            Pr\\xc3\\xa9-visualiza\\xc3\\xa7\\xc3\\xa3o\\n          \\n        </a>\\n      </li>\\n      \\n      <li>\\n        <a href=\"https://dadosabertos.aneel.gov.br/dataset/3e153db4-a503-4093-88be-75d31b002dcf/resource/620bd3ee-7ad4-4e23-ae64-251e22a58303/download/samp-2004.csv\" class=\"resource-url-analytics\" target=\"_blank\">\\n          \\n            <i class=\"fa fa-arrow-circle-o-down\"></i>\\n            Baixar\\n          \\n        </a>\\n      </li>\\n      \\n      \\n      \\n    </ul>\\n  </div>\\n  \\n  \\n</li>\\n          \\n            \\n\\n\\n\\n<li class=\"resource-item\" data-id=\"81fb84e5-2305-41b4-bc97-7673bc327796\">\\n  \\n  <a class=\"heading\" href=\"/dataset/samp/resource/81fb84e5-2305-41b4-bc97-7673bc327796\" title=\"samp-2005.csv\">\\n    samp-2005.csv<span class=\"format-label\" property=\"dc:format\" data-format=\"csv\">CSV</span>\\n    \\n\\n<span class=\"popular ckan-icon ckan-icon-flame\" title=\"16 visualiza\\xc3\\xa7\\xc3\\xb5es\" xmlns=\"http://www.w3.org/1999/xhtml\">Popular</span>\\n\\n  </a>\\n  \\n  \\n    <p class=\"description\">\\n      \\n        Este conjunto de dados visa apresentar os dados de mercado das distribuidoras...\\n      \\n    </p>\\n  \\n  \\n  \\n  <div class=\"dropdown btn-group\">\\n    <a href=\"#\" class=\"btn btn-primary dropdown-toggle\" data-toggle=\"dropdown\">\\n      <i class=\"fa fa-share\"></i>\\n      Explorar\\n      <span class=\"caret\"></span>\\n    </a>\\n    <ul class=\"dropdown-menu\">\\n      \\n      <li>\\n        <a href=\"/dataset/samp/resource/81fb84e5-2305-41b4-bc97-7673bc327796\">\\n          \\n            <i class=\"fa fa-bar-chart-o\"></i>\\n            Pr\\xc3\\xa9-visualiza\\xc3\\xa7\\xc3\\xa3o\\n          \\n        </a>\\n      </li>\\n      \\n      <li>\\n        <a href=\"https://dadosabertos.aneel.gov.br/dataset/3e153db4-a503-4093-88be-75d31b002dcf/resource/81fb84e5-2305-41b4-bc97-7673bc327796/download/samp-2005.csv\" class=\"resource-url-analytics\" target=\"_blank\">\\n          \\n            <i class=\"fa fa-arrow-circle-o-down\"></i>\\n            Baixar\\n          \\n        </a>\\n      </li>\\n      \\n      \\n      \\n    </ul>\\n  </div>\\n  \\n  \\n</li>\\n          \\n            \\n\\n\\n\\n<li class=\"resource-item\" data-id=\"28fa2d25-233d-4a96-9345-fdc13fa76d6c\">\\n  \\n  <a class=\"heading\" href=\"/dataset/samp/resource/28fa2d25-233d-4a96-9345-fdc13fa76d6c\" title=\"samp-2006.csv\">\\n    samp-2006.csv<span class=\"format-label\" property=\"dc:format\" data-format=\"csv\">CSV</span>\\n    \\n\\n<span class=\"popular ckan-icon ckan-icon-flame\" title=\"16 visualiza\\xc3\\xa7\\xc3\\xb5es\" xmlns=\"http://www.w3.org/1999/xhtml\">Popular</span>\\n\\n  </a>\\n  \\n  \\n    <p class=\"description\">\\n      \\n        Este conjunto de dados visa apresentar os dados de mercado das distribuidoras...\\n      \\n    </p>\\n  \\n  \\n  \\n  <div class=\"dropdown btn-group\">\\n    <a href=\"#\" class=\"btn btn-primary dropdown-toggle\" data-toggle=\"dropdown\">\\n      <i class=\"fa fa-share\"></i>\\n      Explorar\\n      <span class=\"caret\"></span>\\n    </a>\\n    <ul class=\"dropdown-menu\">\\n      \\n      <li>\\n        <a href=\"/dataset/samp/resource/28fa2d25-233d-4a96-9345-fdc13fa76d6c\">\\n          \\n            <i class=\"fa fa-bar-chart-o\"></i>\\n            Pr\\xc3\\xa9-visualiza\\xc3\\xa7\\xc3\\xa3o\\n          \\n        </a>\\n      </li>\\n      \\n      <li>\\n        <a href=\"https://dadosabertos.aneel.gov.br/dataset/3e153db4-a503-4093-88be-75d31b002dcf/resource/28fa2d25-233d-4a96-9345-fdc13fa76d6c/download/samp-2006.csv\" class=\"resource-url-analytics\" target=\"_blank\">\\n          \\n            <i class=\"fa fa-arrow-circle-o-down\"></i>\\n            Baixar\\n          \\n        </a>\\n      </li>\\n      \\n      \\n      \\n    </ul>\\n  </div>\\n  \\n  \\n</li>\\n          \\n            \\n\\n\\n\\n<li class=\"resource-item\" data-id=\"a8ea4590-2202-4b50-a32d-74b1dc1280a7\">\\n  \\n  <a class=\"heading\" href=\"/dataset/samp/resource/a8ea4590-2202-4b50-a32d-74b1dc1280a7\" title=\"samp-2007.csv\">\\n    samp-2007.csv<span class=\"format-label\" property=\"dc:format\" data-format=\"csv\">CSV</span>\\n    \\n\\n<span class=\"popular ckan-icon ckan-icon-flame\" title=\"15 visualiza\\xc3\\xa7\\xc3\\xb5es\" xmlns=\"http://www.w3.org/1999/xhtml\">Popular</span>\\n\\n  </a>\\n  \\n  \\n    <p class=\"description\">\\n      \\n        Este conjunto de dados visa apresentar os dados de mercado das distribuidoras...\\n      \\n    </p>\\n  \\n  \\n  \\n  <div class=\"dropdown btn-group\">\\n    <a href=\"#\" class=\"btn btn-primary dropdown-toggle\" data-toggle=\"dropdown\">\\n      <i class=\"fa fa-share\"></i>\\n      Explorar\\n      <span class=\"caret\"></span>\\n    </a>\\n    <ul class=\"dropdown-menu\">\\n      \\n      <li>\\n        <a href=\"/dataset/samp/resource/a8ea4590-2202-4b50-a32d-74b1dc1280a7\">\\n          \\n            <i class=\"fa fa-bar-chart-o\"></i>\\n            Pr\\xc3\\xa9-visualiza\\xc3\\xa7\\xc3\\xa3o\\n          \\n        </a>\\n      </li>\\n      \\n      <li>\\n        <a href=\"https://dadosabertos.aneel.gov.br/dataset/3e153db4-a503-4093-88be-75d31b002dcf/resource/a8ea4590-2202-4b50-a32d-74b1dc1280a7/download/samp-2007.csv\" class=\"resource-url-analytics\" target=\"_blank\">\\n          \\n            <i class=\"fa fa-arrow-circle-o-down\"></i>\\n            Baixar\\n          \\n        </a>\\n      </li>\\n      \\n      \\n      \\n    </ul>\\n  </div>\\n  \\n  \\n</li>\\n          \\n            \\n\\n\\n\\n<li class=\"resource-item\" data-id=\"944c4215-96d1-4646-ac9b-8c8146168eca\">\\n  \\n  <a class=\"heading\" href=\"/dataset/samp/resource/944c4215-96d1-4646-ac9b-8c8146168eca\" title=\"samp-2008.csv\">\\n    samp-2008.csv<span class=\"format-label\" property=\"dc:format\" data-format=\"csv\">CSV</span>\\n    \\n\\n<span class=\"popular ckan-icon ckan-icon-flame\" title=\"16 visualiza\\xc3\\xa7\\xc3\\xb5es\" xmlns=\"http://www.w3.org/1999/xhtml\">Popular</span>\\n\\n  </a>\\n  \\n  \\n    <p class=\"description\">\\n      \\n        Este conjunto de dados visa apresentar os dados de mercado das distribuidoras...\\n      \\n    </p>\\n  \\n  \\n  \\n  <div class=\"dropdown btn-group\">\\n    <a href=\"#\" class=\"btn btn-primary dropdown-toggle\" data-toggle=\"dropdown\">\\n      <i class=\"fa fa-share\"></i>\\n      Explorar\\n      <span class=\"caret\"></span>\\n    </a>\\n    <ul class=\"dropdown-menu\">\\n      \\n      <li>\\n        <a href=\"/dataset/samp/resource/944c4215-96d1-4646-ac9b-8c8146168eca\">\\n          \\n            <i class=\"fa fa-bar-chart-o\"></i>\\n            Pr\\xc3\\xa9-visualiza\\xc3\\xa7\\xc3\\xa3o\\n          \\n        </a>\\n      </li>\\n      \\n      <li>\\n        <a href=\"https://dadosabertos.aneel.gov.br/dataset/3e153db4-a503-4093-88be-75d31b002dcf/resource/944c4215-96d1-4646-ac9b-8c8146168eca/download/samp-2008.csv\" class=\"resource-url-analytics\" target=\"_blank\">\\n          \\n            <i class=\"fa fa-arrow-circle-o-down\"></i>\\n            Baixar\\n          \\n        </a>\\n      </li>\\n      \\n      \\n      \\n    </ul>\\n  </div>\\n  \\n  \\n</li>\\n          \\n            \\n\\n\\n\\n<li class=\"resource-item\" data-id=\"0e414659-5840-4db3-8639-2ae678e15600\">\\n  \\n  <a class=\"heading\" href=\"/dataset/samp/resource/0e414659-5840-4db3-8639-2ae678e15600\" title=\"samp-2009.csv\">\\n    samp-2009.csv<span class=\"format-label\" property=\"dc:format\" data-format=\"csv\">CSV</span>\\n    \\n\\n<span class=\"popular ckan-icon ckan-icon-flame\" title=\"13 visualiza\\xc3\\xa7\\xc3\\xb5es\" xmlns=\"http://www.w3.org/1999/xhtml\">Popular</span>\\n\\n  </a>\\n  \\n  \\n    <p class=\"description\">\\n      \\n        Este conjunto de dados visa apresentar os dados de mercado das distribuidoras...\\n      \\n    </p>\\n  \\n  \\n  \\n  <div class=\"dropdown btn-group\">\\n    <a href=\"#\" class=\"btn btn-primary dropdown-toggle\" data-toggle=\"dropdown\">\\n      <i class=\"fa fa-share\"></i>\\n      Explorar\\n      <span class=\"caret\"></span>\\n    </a>\\n    <ul class=\"dropdown-menu\">\\n      \\n      <li>\\n        <a href=\"/dataset/samp/resource/0e414659-5840-4db3-8639-2ae678e15600\">\\n          \\n            <i class=\"fa fa-bar-chart-o\"></i>\\n            Pr\\xc3\\xa9-visualiza\\xc3\\xa7\\xc3\\xa3o\\n          \\n        </a>\\n      </li>\\n      \\n      <li>\\n        <a href=\"https://dadosabertos.aneel.gov.br/dataset/3e153db4-a503-4093-88be-75d31b002dcf/resource/0e414659-5840-4db3-8639-2ae678e15600/download/samp-2009.csv\" class=\"resource-url-analytics\" target=\"_blank\">\\n          \\n            <i class=\"fa fa-arrow-circle-o-down\"></i>\\n            Baixar\\n          \\n        </a>\\n      </li>\\n      \\n      \\n      \\n    </ul>\\n  </div>\\n  \\n  \\n</li>\\n          \\n            \\n\\n\\n\\n<li class=\"resource-item\" data-id=\"475a41c8-905d-46c6-8fc9-fe9a8a9c6868\">\\n  \\n  <a class=\"heading\" href=\"/dataset/samp/resource/475a41c8-905d-46c6-8fc9-fe9a8a9c6868\" title=\"samp-2010.csv\">\\n    samp-2010.csv<span class=\"format-label\" property=\"dc:format\" data-format=\"csv\">CSV</span>\\n    \\n\\n<span class=\"popular ckan-icon ckan-icon-flame\" title=\"16 visualiza\\xc3\\xa7\\xc3\\xb5es\" xmlns=\"http://www.w3.org/1999/xhtml\">Popular</span>\\n\\n  </a>\\n  \\n  \\n    <p class=\"description\">\\n      \\n        Este conjunto de dados visa apresentar os dados de mercado das distribuidoras...\\n      \\n    </p>\\n  \\n  \\n  \\n  <div class=\"dropdown btn-group\">\\n    <a href=\"#\" class=\"btn btn-primary dropdown-toggle\" data-toggle=\"dropdown\">\\n      <i class=\"fa fa-share\"></i>\\n      Explorar\\n      <span class=\"caret\"></span>\\n    </a>\\n    <ul class=\"dropdown-menu\">\\n      \\n      <li>\\n        <a href=\"/dataset/samp/resource/475a41c8-905d-46c6-8fc9-fe9a8a9c6868\">\\n          \\n            <i class=\"fa fa-bar-chart-o\"></i>\\n            Pr\\xc3\\xa9-visualiza\\xc3\\xa7\\xc3\\xa3o\\n          \\n        </a>\\n      </li>\\n      \\n      <li>\\n        <a href=\"https://dadosabertos.aneel.gov.br/dataset/3e153db4-a503-4093-88be-75d31b002dcf/resource/475a41c8-905d-46c6-8fc9-fe9a8a9c6868/download/samp-2010.csv\" class=\"resource-url-analytics\" target=\"_blank\">\\n          \\n            <i class=\"fa fa-arrow-circle-o-down\"></i>\\n            Baixar\\n          \\n        </a>\\n      </li>\\n      \\n      \\n      \\n    </ul>\\n  </div>\\n  \\n  \\n</li>\\n          \\n            \\n\\n\\n\\n<li class=\"resource-item\" data-id=\"9c25ad95-a433-482c-9847-4f7c5c2b3df0\">\\n  \\n  <a class=\"heading\" href=\"/dataset/samp/resource/9c25ad95-a433-482c-9847-4f7c5c2b3df0\" title=\"samp-2011.csv\">\\n    samp-2011.csv<span class=\"format-label\" property=\"dc:format\" data-format=\"csv\">CSV</span>\\n    \\n\\n<span class=\"popular ckan-icon ckan-icon-flame\" title=\"14 visualiza\\xc3\\xa7\\xc3\\xb5es\" xmlns=\"http://www.w3.org/1999/xhtml\">Popular</span>\\n\\n  </a>\\n  \\n  \\n    <p class=\"description\">\\n      \\n        Este conjunto de dados visa apresentar os dados de mercado das distribuidoras...\\n      \\n    </p>\\n  \\n  \\n  \\n  <div class=\"dropdown btn-group\">\\n    <a href=\"#\" class=\"btn btn-primary dropdown-toggle\" data-toggle=\"dropdown\">\\n      <i class=\"fa fa-share\"></i>\\n      Explorar\\n      <span class=\"caret\"></span>\\n    </a>\\n    <ul class=\"dropdown-menu\">\\n      \\n      <li>\\n        <a href=\"/dataset/samp/resource/9c25ad95-a433-482c-9847-4f7c5c2b3df0\">\\n          \\n            <i class=\"fa fa-bar-chart-o\"></i>\\n            Pr\\xc3\\xa9-visualiza\\xc3\\xa7\\xc3\\xa3o\\n          \\n        </a>\\n      </li>\\n      \\n      <li>\\n        <a href=\"https://dadosabertos.aneel.gov.br/dataset/3e153db4-a503-4093-88be-75d31b002dcf/resource/9c25ad95-a433-482c-9847-4f7c5c2b3df0/download/samp-2011.csv\" class=\"resource-url-analytics\" target=\"_blank\">\\n          \\n            <i class=\"fa fa-arrow-circle-o-down\"></i>\\n            Baixar\\n          \\n        </a>\\n      </li>\\n      \\n      \\n      \\n    </ul>\\n  </div>\\n  \\n  \\n</li>\\n          \\n            \\n\\n\\n\\n<li class=\"resource-item\" data-id=\"b2f4411d-90db-4455-91c7-ebe399ba93c5\">\\n  \\n  <a class=\"heading\" href=\"/dataset/samp/resource/b2f4411d-90db-4455-91c7-ebe399ba93c5\" title=\"samp-2012.csv\">\\n    samp-2012.csv<span class=\"format-label\" property=\"dc:format\" data-format=\"csv\">CSV</span>\\n    \\n\\n<span class=\"popular ckan-icon ckan-icon-flame\" title=\"15 visualiza\\xc3\\xa7\\xc3\\xb5es\" xmlns=\"http://www.w3.org/1999/xhtml\">Popular</span>\\n\\n  </a>\\n  \\n  \\n    <p class=\"description\">\\n      \\n        Este conjunto de dados visa apresentar os dados de mercado das distribuidoras...\\n      \\n    </p>\\n  \\n  \\n  \\n  <div class=\"dropdown btn-group\">\\n    <a href=\"#\" class=\"btn btn-primary dropdown-toggle\" data-toggle=\"dropdown\">\\n      <i class=\"fa fa-share\"></i>\\n      Explorar\\n      <span class=\"caret\"></span>\\n    </a>\\n    <ul class=\"dropdown-menu\">\\n      \\n      <li>\\n        <a href=\"/dataset/samp/resource/b2f4411d-90db-4455-91c7-ebe399ba93c5\">\\n          \\n            <i class=\"fa fa-bar-chart-o\"></i>\\n            Pr\\xc3\\xa9-visualiza\\xc3\\xa7\\xc3\\xa3o\\n          \\n        </a>\\n      </li>\\n      \\n      <li>\\n        <a href=\"https://dadosabertos.aneel.gov.br/dataset/3e153db4-a503-4093-88be-75d31b002dcf/resource/b2f4411d-90db-4455-91c7-ebe399ba93c5/download/samp-2012.csv\" class=\"resource-url-analytics\" target=\"_blank\">\\n          \\n            <i class=\"fa fa-arrow-circle-o-down\"></i>\\n            Baixar\\n          \\n        </a>\\n      </li>\\n      \\n      \\n      \\n    </ul>\\n  </div>\\n  \\n  \\n</li>\\n          \\n            \\n\\n\\n\\n<li class=\"resource-item\" data-id=\"53fa913e-32bc-4765-b7c4-2c0544e33eb3\">\\n  \\n  <a class=\"heading\" href=\"/dataset/samp/resource/53fa913e-32bc-4765-b7c4-2c0544e33eb3\" title=\"samp-2013.csv\">\\n    samp-2013.csv<span class=\"format-label\" property=\"dc:format\" data-format=\"csv\">CSV</span>\\n    \\n\\n<span class=\"popular ckan-icon ckan-icon-flame\" title=\"25 visualiza\\xc3\\xa7\\xc3\\xb5es\" xmlns=\"http://www.w3.org/1999/xhtml\">Popular</span>\\n\\n  </a>\\n  \\n  \\n    <p class=\"description\">\\n      \\n        Este conjunto de dados visa apresentar os dados de mercado das distribuidoras...\\n      \\n    </p>\\n  \\n  \\n  \\n  <div class=\"dropdown btn-group\">\\n    <a href=\"#\" class=\"btn btn-primary dropdown-toggle\" data-toggle=\"dropdown\">\\n      <i class=\"fa fa-share\"></i>\\n      Explorar\\n      <span class=\"caret\"></span>\\n    </a>\\n    <ul class=\"dropdown-menu\">\\n      \\n      <li>\\n        <a href=\"/dataset/samp/resource/53fa913e-32bc-4765-b7c4-2c0544e33eb3\">\\n          \\n            <i class=\"fa fa-bar-chart-o\"></i>\\n            Pr\\xc3\\xa9-visualiza\\xc3\\xa7\\xc3\\xa3o\\n          \\n        </a>\\n      </li>\\n      \\n      <li>\\n        <a href=\"https://dadosabertos.aneel.gov.br/dataset/3e153db4-a503-4093-88be-75d31b002dcf/resource/53fa913e-32bc-4765-b7c4-2c0544e33eb3/download/samp-2013.csv\" class=\"resource-url-analytics\" target=\"_blank\">\\n          \\n            <i class=\"fa fa-arrow-circle-o-down\"></i>\\n            Baixar\\n          \\n        </a>\\n      </li>\\n      \\n      \\n      \\n    </ul>\\n  </div>\\n  \\n  \\n</li>\\n          \\n            \\n\\n\\n\\n<li class=\"resource-item\" data-id=\"b53ee5a1-26f0-47f3-8dea-ae6894d714ac\">\\n  \\n  <a class=\"heading\" href=\"/dataset/samp/resource/b53ee5a1-26f0-47f3-8dea-ae6894d714ac\" title=\"samp-2014.csv\">\\n    samp-2014.csv<span class=\"format-label\" property=\"dc:format\" data-format=\"csv\">CSV</span>\\n    \\n\\n<span class=\"popular ckan-icon ckan-icon-flame\" title=\"25 visualiza\\xc3\\xa7\\xc3\\xb5es\" xmlns=\"http://www.w3.org/1999/xhtml\">Popular</span>\\n\\n  </a>\\n  \\n  \\n    <p class=\"description\">\\n      \\n        Este conjunto de dados visa apresentar os dados de mercado das distribuidoras...\\n      \\n    </p>\\n  \\n  \\n  \\n  <div class=\"dropdown btn-group\">\\n    <a href=\"#\" class=\"btn btn-primary dropdown-toggle\" data-toggle=\"dropdown\">\\n      <i class=\"fa fa-share\"></i>\\n      Explorar\\n      <span class=\"caret\"></span>\\n    </a>\\n    <ul class=\"dropdown-menu\">\\n      \\n      <li>\\n        <a href=\"/dataset/samp/resource/b53ee5a1-26f0-47f3-8dea-ae6894d714ac\">\\n          \\n            <i class=\"fa fa-bar-chart-o\"></i>\\n            Pr\\xc3\\xa9-visualiza\\xc3\\xa7\\xc3\\xa3o\\n          \\n        </a>\\n      </li>\\n      \\n      <li>\\n        <a href=\"https://dadosabertos.aneel.gov.br/dataset/3e153db4-a503-4093-88be-75d31b002dcf/resource/b53ee5a1-26f0-47f3-8dea-ae6894d714ac/download/samp-2014.csv\" class=\"resource-url-analytics\" target=\"_blank\">\\n          \\n            <i class=\"fa fa-arrow-circle-o-down\"></i>\\n            Baixar\\n          \\n        </a>\\n      </li>\\n      \\n      \\n      \\n    </ul>\\n  </div>\\n  \\n  \\n</li>\\n          \\n            \\n\\n\\n\\n<li class=\"resource-item\" data-id=\"1a35925f-8f7d-4074-973e-42dfbaa99636\">\\n  \\n  <a class=\"heading\" href=\"/dataset/samp/resource/1a35925f-8f7d-4074-973e-42dfbaa99636\" title=\"samp-2015.csv\">\\n    samp-2015.csv<span class=\"format-label\" property=\"dc:format\" data-format=\"csv\">CSV</span>\\n    \\n\\n<span class=\"popular ckan-icon ckan-icon-flame\" title=\"24 visualiza\\xc3\\xa7\\xc3\\xb5es\" xmlns=\"http://www.w3.org/1999/xhtml\">Popular</span>\\n\\n  </a>\\n  \\n  \\n    <p class=\"description\">\\n      \\n        Este conjunto de dados visa apresentar os dados de mercado das distribuidoras...\\n      \\n    </p>\\n  \\n  \\n  \\n  <div class=\"dropdown btn-group\">\\n    <a href=\"#\" class=\"btn btn-primary dropdown-toggle\" data-toggle=\"dropdown\">\\n      <i class=\"fa fa-share\"></i>\\n      Explorar\\n      <span class=\"caret\"></span>\\n    </a>\\n    <ul class=\"dropdown-menu\">\\n      \\n      <li>\\n        <a href=\"/dataset/samp/resource/1a35925f-8f7d-4074-973e-42dfbaa99636\">\\n          \\n            <i class=\"fa fa-bar-chart-o\"></i>\\n            Pr\\xc3\\xa9-visualiza\\xc3\\xa7\\xc3\\xa3o\\n          \\n        </a>\\n      </li>\\n      \\n      <li>\\n        <a href=\"https://dadosabertos.aneel.gov.br/dataset/3e153db4-a503-4093-88be-75d31b002dcf/resource/1a35925f-8f7d-4074-973e-42dfbaa99636/download/samp-2015.csv\" class=\"resource-url-analytics\" target=\"_blank\">\\n          \\n            <i class=\"fa fa-arrow-circle-o-down\"></i>\\n            Baixar\\n          \\n        </a>\\n      </li>\\n      \\n      \\n      \\n    </ul>\\n  </div>\\n  \\n  \\n</li>\\n          \\n            \\n\\n\\n\\n<li class=\"resource-item\" data-id=\"f5421c87-81c5-42e4-bbf0-33af4cc98800\">\\n  \\n  <a class=\"heading\" href=\"/dataset/samp/resource/f5421c87-81c5-42e4-bbf0-33af4cc98800\" title=\"samp-2016.csv\">\\n    samp-2016.csv<span class=\"format-label\" property=\"dc:format\" data-format=\"csv\">CSV</span>\\n    \\n\\n<span class=\"popular ckan-icon ckan-icon-flame\" title=\"24 visualiza\\xc3\\xa7\\xc3\\xb5es\" xmlns=\"http://www.w3.org/1999/xhtml\">Popular</span>\\n\\n  </a>\\n  \\n  \\n    <p class=\"description\">\\n      \\n        Este conjunto de dados visa apresentar os dados de mercado das distribuidoras...\\n      \\n    </p>\\n  \\n  \\n  \\n  <div class=\"dropdown btn-group\">\\n    <a href=\"#\" class=\"btn btn-primary dropdown-toggle\" data-toggle=\"dropdown\">\\n      <i class=\"fa fa-share\"></i>\\n      Explorar\\n      <span class=\"caret\"></span>\\n    </a>\\n    <ul class=\"dropdown-menu\">\\n      \\n      <li>\\n        <a href=\"/dataset/samp/resource/f5421c87-81c5-42e4-bbf0-33af4cc98800\">\\n          \\n            <i class=\"fa fa-bar-chart-o\"></i>\\n            Pr\\xc3\\xa9-visualiza\\xc3\\xa7\\xc3\\xa3o\\n          \\n        </a>\\n      </li>\\n      \\n      <li>\\n        <a href=\"https://dadosabertos.aneel.gov.br/dataset/3e153db4-a503-4093-88be-75d31b002dcf/resource/f5421c87-81c5-42e4-bbf0-33af4cc98800/download/samp-2016.csv\" class=\"resource-url-analytics\" target=\"_blank\">\\n          \\n            <i class=\"fa fa-arrow-circle-o-down\"></i>\\n            Baixar\\n          \\n        </a>\\n      </li>\\n      \\n      \\n      \\n    </ul>\\n  </div>\\n  \\n  \\n</li>\\n          \\n            \\n\\n\\n\\n<li class=\"resource-item\" data-id=\"4a84f3c8-9dc8-4448-bba8-cc2dfbc26ca2\">\\n  \\n  <a class=\"heading\" href=\"/dataset/samp/resource/4a84f3c8-9dc8-4448-bba8-cc2dfbc26ca2\" title=\"samp-2017.csv\">\\n    samp-2017.csv<span class=\"format-label\" property=\"dc:format\" data-format=\"csv\">CSV</span>\\n    \\n\\n<span class=\"popular ckan-icon ckan-icon-flame\" title=\"31 visualiza\\xc3\\xa7\\xc3\\xb5es\" xmlns=\"http://www.w3.org/1999/xhtml\">Popular</span>\\n\\n  </a>\\n  \\n  \\n    <p class=\"description\">\\n      \\n        Este conjunto de dados visa apresentar os dados de mercado das distribuidoras...\\n      \\n    </p>\\n  \\n  \\n  \\n  <div class=\"dropdown btn-group\">\\n    <a href=\"#\" class=\"btn btn-primary dropdown-toggle\" data-toggle=\"dropdown\">\\n      <i class=\"fa fa-share\"></i>\\n      Explorar\\n      <span class=\"caret\"></span>\\n    </a>\\n    <ul class=\"dropdown-menu\">\\n      \\n      <li>\\n        <a href=\"/dataset/samp/resource/4a84f3c8-9dc8-4448-bba8-cc2dfbc26ca2\">\\n          \\n            <i class=\"fa fa-bar-chart-o\"></i>\\n            Pr\\xc3\\xa9-visualiza\\xc3\\xa7\\xc3\\xa3o\\n          \\n        </a>\\n      </li>\\n      \\n      <li>\\n        <a href=\"https://dadosabertos.aneel.gov.br/dataset/3e153db4-a503-4093-88be-75d31b002dcf/resource/4a84f3c8-9dc8-4448-bba8-cc2dfbc26ca2/download/samp-2017.csv\" class=\"resource-url-analytics\" target=\"_blank\">\\n          \\n            <i class=\"fa fa-arrow-circle-o-down\"></i>\\n            Baixar\\n          \\n        </a>\\n      </li>\\n      \\n      \\n      \\n    </ul>\\n  </div>\\n  \\n  \\n</li>\\n          \\n            \\n\\n\\n\\n<li class=\"resource-item\" data-id=\"6ab6596e-170d-42e8-af93-9de024ebe36b\">\\n  \\n  <a class=\"heading\" href=\"/dataset/samp/resource/6ab6596e-170d-42e8-af93-9de024ebe36b\" title=\"samp-2018.csv\">\\n    samp-2018.csv<span class=\"format-label\" property=\"dc:format\" data-format=\"csv\">CSV</span>\\n    \\n\\n<span class=\"popular ckan-icon ckan-icon-flame\" title=\"34 visualiza\\xc3\\xa7\\xc3\\xb5es\" xmlns=\"http://www.w3.org/1999/xhtml\">Popular</span>\\n\\n  </a>\\n  \\n  \\n    <p class=\"description\">\\n      \\n        Este conjunto de dados visa apresentar os dados de mercado das distribuidoras...\\n      \\n    </p>\\n  \\n  \\n  \\n  <div class=\"dropdown btn-group\">\\n    <a href=\"#\" class=\"btn btn-primary dropdown-toggle\" data-toggle=\"dropdown\">\\n      <i class=\"fa fa-share\"></i>\\n      Explorar\\n      <span class=\"caret\"></span>\\n    </a>\\n    <ul class=\"dropdown-menu\">\\n      \\n      <li>\\n        <a href=\"/dataset/samp/resource/6ab6596e-170d-42e8-af93-9de024ebe36b\">\\n          \\n            <i class=\"fa fa-bar-chart-o\"></i>\\n            Pr\\xc3\\xa9-visualiza\\xc3\\xa7\\xc3\\xa3o\\n          \\n        </a>\\n      </li>\\n      \\n      <li>\\n        <a href=\"https://dadosabertos.aneel.gov.br/dataset/3e153db4-a503-4093-88be-75d31b002dcf/resource/6ab6596e-170d-42e8-af93-9de024ebe36b/download/samp-2018.csv\" class=\"resource-url-analytics\" target=\"_blank\">\\n          \\n            <i class=\"fa fa-arrow-circle-o-down\"></i>\\n            Baixar\\n          \\n        </a>\\n      </li>\\n      \\n      \\n      \\n    </ul>\\n  </div>\\n  \\n  \\n</li>\\n          \\n            \\n\\n\\n\\n<li class=\"resource-item\" data-id=\"641003d6-4e87-4095-9416-ae5fbb5c94d3\">\\n  \\n  <a class=\"heading\" href=\"/dataset/samp/resource/641003d6-4e87-4095-9416-ae5fbb5c94d3\" title=\"samp-2019.csv\">\\n    samp-2019.csv<span class=\"format-label\" property=\"dc:format\" data-format=\"csv\">CSV</span>\\n    \\n\\n<span class=\"popular ckan-icon ckan-icon-flame\" title=\"35 visualiza\\xc3\\xa7\\xc3\\xb5es\" xmlns=\"http://www.w3.org/1999/xhtml\">Popular</span>\\n\\n  </a>\\n  \\n  \\n    <p class=\"description\">\\n      \\n        Este conjunto de dados visa apresentar os dados de mercado das distribuidoras...\\n      \\n    </p>\\n  \\n  \\n  \\n  <div class=\"dropdown btn-group\">\\n    <a href=\"#\" class=\"btn btn-primary dropdown-toggle\" data-toggle=\"dropdown\">\\n      <i class=\"fa fa-share\"></i>\\n      Explorar\\n      <span class=\"caret\"></span>\\n    </a>\\n    <ul class=\"dropdown-menu\">\\n      \\n      <li>\\n        <a href=\"/dataset/samp/resource/641003d6-4e87-4095-9416-ae5fbb5c94d3\">\\n          \\n            <i class=\"fa fa-bar-chart-o\"></i>\\n            Pr\\xc3\\xa9-visualiza\\xc3\\xa7\\xc3\\xa3o\\n          \\n        </a>\\n      </li>\\n      \\n      <li>\\n        <a href=\"https://dadosabertos.aneel.gov.br/dataset/3e153db4-a503-4093-88be-75d31b002dcf/resource/641003d6-4e87-4095-9416-ae5fbb5c94d3/download/samp-2019.csv\" class=\"resource-url-analytics\" target=\"_blank\">\\n          \\n            <i class=\"fa fa-arrow-circle-o-down\"></i>\\n            Baixar\\n          \\n        </a>\\n      </li>\\n      \\n      \\n      \\n    </ul>\\n  </div>\\n  \\n  \\n</li>\\n          \\n            \\n\\n\\n\\n<li class=\"resource-item\" data-id=\"29f9fec9-34dd-454b-8f3c-6b4ca5b22f2c\">\\n  \\n  <a class=\"heading\" href=\"/dataset/samp/resource/29f9fec9-34dd-454b-8f3c-6b4ca5b22f2c\" title=\"samp-2020.csv\">\\n    samp-2020.csv<span class=\"format-label\" property=\"dc:format\" data-format=\"csv\">CSV</span>\\n    \\n\\n<span class=\"popular ckan-icon ckan-icon-flame\" title=\"51 visualiza\\xc3\\xa7\\xc3\\xb5es\" xmlns=\"http://www.w3.org/1999/xhtml\">Popular</span>\\n\\n  </a>\\n  \\n  \\n    <p class=\"description\">\\n      \\n        Este conjunto de dados visa apresentar os dados de mercado das distribuidoras...\\n      \\n    </p>\\n  \\n  \\n  \\n  <div class=\"dropdown btn-group\">\\n    <a href=\"#\" class=\"btn btn-primary dropdown-toggle\" data-toggle=\"dropdown\">\\n      <i class=\"fa fa-share\"></i>\\n      Explorar\\n      <span class=\"caret\"></span>\\n    </a>\\n    <ul class=\"dropdown-menu\">\\n      \\n      <li>\\n        <a href=\"/dataset/samp/resource/29f9fec9-34dd-454b-8f3c-6b4ca5b22f2c\">\\n          \\n            <i class=\"fa fa-bar-chart-o\"></i>\\n            Pr\\xc3\\xa9-visualiza\\xc3\\xa7\\xc3\\xa3o\\n          \\n        </a>\\n      </li>\\n      \\n      <li>\\n        <a href=\"https://dadosabertos.aneel.gov.br/dataset/3e153db4-a503-4093-88be-75d31b002dcf/resource/29f9fec9-34dd-454b-8f3c-6b4ca5b22f2c/download/samp-2020.csv\" class=\"resource-url-analytics\" target=\"_blank\">\\n          \\n            <i class=\"fa fa-arrow-circle-o-down\"></i>\\n            Baixar\\n          \\n        </a>\\n      </li>\\n      \\n      \\n      \\n    </ul>\\n  </div>\\n  \\n  \\n</li>\\n          \\n            \\n\\n\\n\\n<li class=\"resource-item\" data-id=\"84906f77-0bb4-4527-b9a0-cb6c2b525661\">\\n  \\n  <a class=\"heading\" href=\"/dataset/samp/resource/84906f77-0bb4-4527-b9a0-cb6c2b525661\" title=\"samp-2021.csv\">\\n    samp-2021.csv<span class=\"format-label\" property=\"dc:format\" data-format=\"csv\">CSV</span>\\n    \\n\\n<span class=\"popular ckan-icon ckan-icon-flame\" title=\"101 visualiza\\xc3\\xa7\\xc3\\xb5es\" xmlns=\"http://www.w3.org/1999/xhtml\">Popular</span>\\n\\n  </a>\\n  \\n  \\n    <p class=\"description\">\\n      \\n        Este conjunto de dados visa apresentar os dados de mercado das distribuidoras...\\n      \\n    </p>\\n  \\n  \\n  \\n  <div class=\"dropdown btn-group\">\\n    <a href=\"#\" class=\"btn btn-primary dropdown-toggle\" data-toggle=\"dropdown\">\\n      <i class=\"fa fa-share\"></i>\\n      Explorar\\n      <span class=\"caret\"></span>\\n    </a>\\n    <ul class=\"dropdown-menu\">\\n      \\n      <li>\\n        <a href=\"/dataset/samp/resource/84906f77-0bb4-4527-b9a0-cb6c2b525661\">\\n          \\n            <i class=\"fa fa-bar-chart-o\"></i>\\n            Pr\\xc3\\xa9-visualiza\\xc3\\xa7\\xc3\\xa3o\\n          \\n        </a>\\n      </li>\\n      \\n      <li>\\n        <a href=\"https://dadosabertos.aneel.gov.br/dataset/3e153db4-a503-4093-88be-75d31b002dcf/resource/84906f77-0bb4-4527-b9a0-cb6c2b525661/download/samp-2021.csv\" class=\"resource-url-analytics\" target=\"_blank\">\\n          \\n            <i class=\"fa fa-arrow-circle-o-down\"></i>\\n            Baixar\\n          \\n        </a>\\n      </li>\\n      \\n      \\n      \\n    </ul>\\n  </div>\\n  \\n  \\n</li>\\n          \\n            \\n\\n\\n\\n<li class=\"resource-item\" data-id=\"7e097631-46ad-4051-8954-9ef8fb594fdc\">\\n  \\n  <a class=\"heading\" href=\"/dataset/samp/resource/7e097631-46ad-4051-8954-9ef8fb594fdc\" title=\"samp-2022.csv\">\\n    samp-2022.csv<span class=\"format-label\" property=\"dc:format\" data-format=\"csv\">CSV</span>\\n    \\n\\n<span class=\"popular ckan-icon ckan-icon-flame\" title=\"384 visualiza\\xc3\\xa7\\xc3\\xb5es\" xmlns=\"http://www.w3.org/1999/xhtml\">Popular</span>\\n\\n  </a>\\n  \\n  \\n    <p class=\"description\">\\n      \\n        Este conjunto de dados visa apresentar os dados de mercado das distribuidoras...\\n      \\n    </p>\\n  \\n  \\n  \\n  <div class=\"dropdown btn-group\">\\n    <a href=\"#\" class=\"btn btn-primary dropdown-toggle\" data-toggle=\"dropdown\">\\n      <i class=\"fa fa-share\"></i>\\n      Explorar\\n      <span class=\"caret\"></span>\\n    </a>\\n    <ul class=\"dropdown-menu\">\\n      \\n      <li>\\n        <a href=\"/dataset/samp/resource/7e097631-46ad-4051-8954-9ef8fb594fdc\">\\n          \\n            <i class=\"fa fa-bar-chart-o\"></i>\\n            Pr\\xc3\\xa9-visualiza\\xc3\\xa7\\xc3\\xa3o\\n          \\n        </a>\\n      </li>\\n      \\n      <li>\\n        <a href=\"https://dadosabertos.aneel.gov.br/dataset/3e153db4-a503-4093-88be-75d31b002dcf/resource/7e097631-46ad-4051-8954-9ef8fb594fdc/download/samp-2022.csv\" class=\"resource-url-analytics\" target=\"_blank\">\\n          \\n            <i class=\"fa fa-arrow-circle-o-down\"></i>\\n            Baixar\\n          \\n        </a>\\n      </li>\\n      \\n      \\n      \\n    </ul>\\n  </div>\\n  \\n  \\n</li>\\n          \\n            \\n\\n\\n\\n<li class=\"resource-item\" data-id=\"b9ad890b-d500-4294-bd36-1108acc54832\">\\n  \\n  <a class=\"heading\" href=\"/dataset/samp/resource/b9ad890b-d500-4294-bd36-1108acc54832\" title=\"samp-2023.csv\">\\n    samp-2023.csv<span class=\"format-label\" property=\"dc:format\" data-format=\"csv\">CSV</span>\\n    \\n\\n<span class=\"popular ckan-icon ckan-icon-flame\" title=\"39 visualiza\\xc3\\xa7\\xc3\\xb5es\" xmlns=\"http://www.w3.org/1999/xhtml\">Popular</span>\\n\\n  </a>\\n  \\n  \\n    <p class=\"description\">\\n      \\n        Este conjunto de dados visa apresentar os dados de mercado das distribuidoras...\\n      \\n    </p>\\n  \\n  \\n  \\n  <div class=\"dropdown btn-group\">\\n    <a href=\"#\" class=\"btn btn-primary dropdown-toggle\" data-toggle=\"dropdown\">\\n      <i class=\"fa fa-share\"></i>\\n      Explorar\\n      <span class=\"caret\"></span>\\n    </a>\\n    <ul class=\"dropdown-menu\">\\n      \\n      <li>\\n        <a href=\"/dataset/samp/resource/b9ad890b-d500-4294-bd36-1108acc54832\">\\n          \\n            <i class=\"fa fa-bar-chart-o\"></i>\\n            Pr\\xc3\\xa9-visualiza\\xc3\\xa7\\xc3\\xa3o\\n          \\n        </a>\\n      </li>\\n      \\n      <li>\\n        <a href=\"https://dadosabertos.aneel.gov.br/dataset/3e153db4-a503-4093-88be-75d31b002dcf/resource/b9ad890b-d500-4294-bd36-1108acc54832/download/samp-2023.csv\" class=\"resource-url-analytics\" target=\"_blank\">\\n          \\n            <i class=\"fa fa-arrow-circle-o-down\"></i>\\n            Baixar\\n          \\n        </a>\\n      </li>\\n      \\n      \\n      \\n    </ul>\\n  </div>\\n  \\n  \\n</li>\\n          \\n        \\n      </ul>\\n    \\n    \\n</section>\\n  \\n\\n  \\n    \\n\\n  <section class=\"tags\">\\n    \\n\\n\\n  <ul class=\"tag-list well\">\\n    \\n      <li>\\n        <a class=\"tag\" href=\"/dataset/?tags=consumo\">consumo</a>\\n      </li>\\n    \\n      <li>\\n        <a class=\"tag\" href=\"/dataset/?tags=demanda\">demanda</a>\\n      </li>\\n    \\n      <li>\\n        <a class=\"tag\" href=\"/dataset/?tags=distribuidora\">distribuidora</a>\\n      </li>\\n    \\n      <li>\\n        <a class=\"tag\" href=\"/dataset/?tags=energia\">energia</a>\\n      </li>\\n    \\n      <li>\\n        <a class=\"tag\" href=\"/dataset/?tags=faturamento\">faturamento</a>\\n      </li>\\n    \\n      <li>\\n        <a class=\"tag\" href=\"/dataset/?tags=mercado\">mercado</a>\\n      </li>\\n    \\n      <li>\\n        <a class=\"tag\" href=\"/dataset/?tags=n%C3%BAmero+de+consumidores\">n\\xc3\\xbamero de consumidores</a>\\n      </li>\\n    \\n      <li>\\n        <a class=\"tag\" href=\"/dataset/?tags=receita\">receita</a>\\n      </li>\\n    \\n  </ul>\\n\\n  </section>\\n\\n  \\n\\n  \\n    <section class=\"additional-info\">\\n  <h3>Informa\\xc3\\xa7\\xc3\\xb5es Adicionais</h3>\\n  <table class=\"table table-striped table-bordered table-condensed\">\\n    <thead>\\n      <tr>\\n        <th scope=\"col\">Campo</th>\\n        <th scope=\"col\">Valor</th>\\n      </tr>\\n    </thead>\\n    <tbody>\\n      \\n        \\n          <tr>\\n            <th scope=\"row\" class=\"dataset-label\">Fonte</th>\\n            \\n              <td class=\"dataset-details\" property=\"foaf:homepage\"><a href=\"https://dadosabertos.aneel.gov.br/\" rel=\"foaf:homepage\" target=\"_blank\">https://dadosabertos.aneel.gov.br/</a></td>\\n            \\n          </tr>\\n        \\n\\n        \\n          <tr>\\n            <th scope=\"row\" class=\"dataset-label\">Autor</th>\\n            <td class=\"dataset-details\" property=\"dc:creator\"><a href=mailto:master.sgt@aneel.gov.br>SGT/ANEEL</a></td>\\n          </tr>\\n        \\n\\n        \\n          <tr>\\n            <th scope=\"row\" class=\"dataset-label\">Mantenedor</th>\\n            <td class=\"dataset-details\" property=\"dc:contributor\"><a href=mailto:dadosabertos@aneel.gov.br>EGDI/ANEEL</a></td>\\n          </tr>\\n        \\n\\n        \\n          <tr>\\n            <th scope=\"row\" class=\"dataset-label\">Vers\\xc3\\xa3o</th>\\n            <td class=\"dataset-details\">1.0</td>\\n          </tr>\\n        \\n\\n        \\n        \\n          <tr>\\n            <th scope=\"row\" class=\"dataset-label\">\\xc3\\x9altima Atualiza\\xc3\\xa7\\xc3\\xa3o</th>\\n            <td class=\"dataset-details\">\\n                \\n<span class=\"automatic-local-datetime\" data-datetime=\"2023-04-17T09:56:55-0300\">\\n    abril 17, 2023, 09:56 (BRT)\\n</span>\\n            </td>\\n          </tr>\\n        \\n        \\n          <tr>\\n            <th scope=\"row\" class=\"dataset-label\">Criado</th>\\n\\n            <td class=\"dataset-details\">\\n                \\n<span class=\"automatic-local-datetime\" data-datetime=\"2022-02-17T10:37:50-0200\">\\n    fevereiro 17, 2022, 10:37 (BRST)\\n</span>\\n            </td>\\n          </tr>\\n        \\n\\n      \\n        \\n          \\n          <tr rel=\"dc:relation\" resource=\"_:extra\">\\n            <th scope=\"row\" class=\"dataset-label\" property=\"rdfs:label\">Categorias no VCGE</th>\\n            <td class=\"dataset-details\" property=\"rdf:value\">Energia El\\xc3\\xa9trica</td>\\n          </tr>\\n        \\n          \\n          <tr rel=\"dc:relation\" resource=\"_:extra\">\\n            <th scope=\"row\" class=\"dataset-label\" property=\"rdfs:label\">Cobertura temporal</th>\\n            <td class=\"dataset-details\" property=\"rdf:value\">2003 em diante</td>\\n          </tr>\\n        \\n          \\n          <tr rel=\"dc:relation\" resource=\"_:extra\">\\n            <th scope=\"row\" class=\"dataset-label\" property=\"rdfs:label\">Frequ\\xc3\\xaancia de atualiza\\xc3\\xa7\\xc3\\xa3o</th>\\n            <td class=\"dataset-details\" property=\"rdf:value\">Mensal</td>\\n          </tr>\\n        \\n          \\n          <tr rel=\"dc:relation\" resource=\"_:extra\">\\n            <th scope=\"row\" class=\"dataset-label\" property=\"rdfs:label\">Granularidade temporal</th>\\n            <td class=\"dataset-details\" property=\"rdf:value\">Mensal</td>\\n          </tr>\\n        \\n      \\n\\n      \\n    </tbody>\\n  </table>\\n</section>\\n  \\n\\n\\n                    </div>\\n                  </article>\\n                \\n              </div>\\n            \\n          </div>\\n        \\n      </div>\\n    </div>\\n  \\n    <footer class=\"site-footer\">\\n  <div class=\"container\">\\n    \\n    <div class=\"row\">\\n      <div class=\"col-md-8 footer-links\">\\n        \\n          <ul class=\"list-unstyled\">\\n            \\n              <li><a href=\"/about\">Sobre Dados Abertos - Ag\\xc3\\xaancia Nacional de Energia El\\xc3\\xa9trica</a></li>\\n            \\n          </ul>\\n          <ul class=\"list-unstyled\">\\n            \\n              \\n              <li><a href=\"http://docs.ckan.org/en/2.9/api/\">API do CKAN</a></li>\\n              <li><a href=\"http://www.ckan.org/\">Associa\\xc3\\xa7\\xc3\\xa3o CKAN</a></li>\\n              <li><a href=\"http://www.opendefinition.org/okd/\"><img src=\"/base/images/od_80x15_blue.png\" alt=\"Open Data\"></a></li>\\n            \\n          </ul>\\n        \\n      </div>\\n      <div class=\"col-md-4 attribution\">\\n        \\n          <p><strong>Impulsionado por</strong> <a class=\"hide-text ckan-footer-logo\" href=\"http://ckan.org\">CKAN</a></p>\\n        \\n        \\n          \\n<form class=\"form-inline form-select lang-select\" action=\"/util/redirect\" data-module=\"select-switch\" method=\"POST\">\\n  <label for=\"field-lang-select\">Idioma</label>\\n  <select id=\"field-lang-select\" name=\"url\" data-module=\"autocomplete\" data-module-dropdown-class=\"lang-dropdown\" data-module-container-class=\"lang-container\">\\n    \\n      <option value=\"/pt_BR/dataset/samp\" selected=\"selected\">\\n        portugu\\xc3\\xaas (Brasil)\\n      </option>\\n    \\n  </select>\\n  <button class=\"btn btn-default js-hide\" type=\"submit\">Ir</button>\\n</form>\\n        \\n      </div>\\n    </div>\\n    \\n  </div>\\n\\n  \\n    \\n  \\n</footer>\\n  \\n  \\n  \\n  \\n    \\n  \\n  \\n    \\n\\n      \\n\\n    \\n    \\n    <link href=\"/webassets/vendor/f3b8236b_select2.css\" rel=\"stylesheet\"/>\\n<link href=\"/webassets/vendor/0b01aef1_font-awesome.css\" rel=\"stylesheet\"/>\\n    <script src=\"/webassets/vendor/d8ae4bed_jquery.js\" type=\"text/javascript\"></script>\\n<script src=\"/webassets/vendor/fb6095a0_vendor.js\" type=\"text/javascript\"></script>\\n<script src=\"/webassets/vendor/580fa18d_bootstrap.js\" type=\"text/javascript\"></script>\\n<script src=\"/webassets/base/5f5a82bb_main.js\" type=\"text/javascript\"></script>\\n<script src=\"/webassets/base/919ae274_ckan.js\" type=\"text/javascript\"></script>\\n<script src=\"/webassets/base/cd2c0272_tracking.js\" type=\"text/javascript\"></script>\\n  </body>\\n</html>'"
            ]
          },
          "metadata": {},
          "execution_count": 3
        }
      ],
      "source": [
        "urllib.request.urlopen(url).read()"
      ]
    },
    {
      "cell_type": "code",
      "execution_count": 4,
      "metadata": {
        "id": "Ql-Kafhop3Gq"
      },
      "outputs": [],
      "source": [
        "urllist = re.findall(r\"\"\"<\\s*a\\s*href=[\"']([^=]+)[\"']\"\"\", urllib.request.urlopen(url).read().decode(\"utf-8\"))"
      ]
    },
    {
      "cell_type": "code",
      "execution_count": 5,
      "metadata": {
        "colab": {
          "base_uri": "https://localhost:8080/"
        },
        "id": "D6IkC99QotZi",
        "outputId": "63bd10c1-f298-481d-b0c4-dce5912ad1b9"
      },
      "outputs": [
        {
          "output_type": "execute_result",
          "data": {
            "text/plain": [
              "['#content',\n",
              " '/user/login',\n",
              " '/dataset/',\n",
              " '/organization/',\n",
              " '/group/',\n",
              " '/about',\n",
              " '/',\n",
              " '/organization/',\n",
              " '/organization/agencia-nacional-de-energia-eletrica',\n",
              " '/dataset/samp',\n",
              " '/organization/agencia-nacional-de-energia-eletrica',\n",
              " '/organization/about/agencia-nacional-de-energia-eletrica',\n",
              " 'http://www.opendefinition.org/licenses/odc-odbl',\n",
              " 'http://opendefinition.org/okd/',\n",
              " '/dataset/samp',\n",
              " '/dataset/groups/samp',\n",
              " '/dataset/activity/samp',\n",
              " 'https://www2.aneel.gov.br/cedoc/ren20221003.pdf',\n",
              " '#',\n",
              " '/dataset/samp/resource/7dbb8074-9168-4e11-9380-1aab3c9ebba3',\n",
              " 'https://dadosabertos.aneel.gov.br/dataset/3e153db4-a503-4093-88be-75d31b002dcf/resource/7dbb8074-9168-4e11-9380-1aab3c9ebba3/download/dd-samp.pdf',\n",
              " '#',\n",
              " '/dataset/samp/resource/349ca6b0-8e1b-4e1e-991d-b3d9edf6e368',\n",
              " 'https://dadosabertos.aneel.gov.br/dataset/3e153db4-a503-4093-88be-75d31b002dcf/resource/349ca6b0-8e1b-4e1e-991d-b3d9edf6e368/download/samp-2003.csv',\n",
              " '#',\n",
              " '/dataset/samp/resource/620bd3ee-7ad4-4e23-ae64-251e22a58303',\n",
              " 'https://dadosabertos.aneel.gov.br/dataset/3e153db4-a503-4093-88be-75d31b002dcf/resource/620bd3ee-7ad4-4e23-ae64-251e22a58303/download/samp-2004.csv',\n",
              " '#',\n",
              " '/dataset/samp/resource/81fb84e5-2305-41b4-bc97-7673bc327796',\n",
              " 'https://dadosabertos.aneel.gov.br/dataset/3e153db4-a503-4093-88be-75d31b002dcf/resource/81fb84e5-2305-41b4-bc97-7673bc327796/download/samp-2005.csv',\n",
              " '#',\n",
              " '/dataset/samp/resource/28fa2d25-233d-4a96-9345-fdc13fa76d6c',\n",
              " 'https://dadosabertos.aneel.gov.br/dataset/3e153db4-a503-4093-88be-75d31b002dcf/resource/28fa2d25-233d-4a96-9345-fdc13fa76d6c/download/samp-2006.csv',\n",
              " '#',\n",
              " '/dataset/samp/resource/a8ea4590-2202-4b50-a32d-74b1dc1280a7',\n",
              " 'https://dadosabertos.aneel.gov.br/dataset/3e153db4-a503-4093-88be-75d31b002dcf/resource/a8ea4590-2202-4b50-a32d-74b1dc1280a7/download/samp-2007.csv',\n",
              " '#',\n",
              " '/dataset/samp/resource/944c4215-96d1-4646-ac9b-8c8146168eca',\n",
              " 'https://dadosabertos.aneel.gov.br/dataset/3e153db4-a503-4093-88be-75d31b002dcf/resource/944c4215-96d1-4646-ac9b-8c8146168eca/download/samp-2008.csv',\n",
              " '#',\n",
              " '/dataset/samp/resource/0e414659-5840-4db3-8639-2ae678e15600',\n",
              " 'https://dadosabertos.aneel.gov.br/dataset/3e153db4-a503-4093-88be-75d31b002dcf/resource/0e414659-5840-4db3-8639-2ae678e15600/download/samp-2009.csv',\n",
              " '#',\n",
              " '/dataset/samp/resource/475a41c8-905d-46c6-8fc9-fe9a8a9c6868',\n",
              " 'https://dadosabertos.aneel.gov.br/dataset/3e153db4-a503-4093-88be-75d31b002dcf/resource/475a41c8-905d-46c6-8fc9-fe9a8a9c6868/download/samp-2010.csv',\n",
              " '#',\n",
              " '/dataset/samp/resource/9c25ad95-a433-482c-9847-4f7c5c2b3df0',\n",
              " 'https://dadosabertos.aneel.gov.br/dataset/3e153db4-a503-4093-88be-75d31b002dcf/resource/9c25ad95-a433-482c-9847-4f7c5c2b3df0/download/samp-2011.csv',\n",
              " '#',\n",
              " '/dataset/samp/resource/b2f4411d-90db-4455-91c7-ebe399ba93c5',\n",
              " 'https://dadosabertos.aneel.gov.br/dataset/3e153db4-a503-4093-88be-75d31b002dcf/resource/b2f4411d-90db-4455-91c7-ebe399ba93c5/download/samp-2012.csv',\n",
              " '#',\n",
              " '/dataset/samp/resource/53fa913e-32bc-4765-b7c4-2c0544e33eb3',\n",
              " 'https://dadosabertos.aneel.gov.br/dataset/3e153db4-a503-4093-88be-75d31b002dcf/resource/53fa913e-32bc-4765-b7c4-2c0544e33eb3/download/samp-2013.csv',\n",
              " '#',\n",
              " '/dataset/samp/resource/b53ee5a1-26f0-47f3-8dea-ae6894d714ac',\n",
              " 'https://dadosabertos.aneel.gov.br/dataset/3e153db4-a503-4093-88be-75d31b002dcf/resource/b53ee5a1-26f0-47f3-8dea-ae6894d714ac/download/samp-2014.csv',\n",
              " '#',\n",
              " '/dataset/samp/resource/1a35925f-8f7d-4074-973e-42dfbaa99636',\n",
              " 'https://dadosabertos.aneel.gov.br/dataset/3e153db4-a503-4093-88be-75d31b002dcf/resource/1a35925f-8f7d-4074-973e-42dfbaa99636/download/samp-2015.csv',\n",
              " '#',\n",
              " '/dataset/samp/resource/f5421c87-81c5-42e4-bbf0-33af4cc98800',\n",
              " 'https://dadosabertos.aneel.gov.br/dataset/3e153db4-a503-4093-88be-75d31b002dcf/resource/f5421c87-81c5-42e4-bbf0-33af4cc98800/download/samp-2016.csv',\n",
              " '#',\n",
              " '/dataset/samp/resource/4a84f3c8-9dc8-4448-bba8-cc2dfbc26ca2',\n",
              " 'https://dadosabertos.aneel.gov.br/dataset/3e153db4-a503-4093-88be-75d31b002dcf/resource/4a84f3c8-9dc8-4448-bba8-cc2dfbc26ca2/download/samp-2017.csv',\n",
              " '#',\n",
              " '/dataset/samp/resource/6ab6596e-170d-42e8-af93-9de024ebe36b',\n",
              " 'https://dadosabertos.aneel.gov.br/dataset/3e153db4-a503-4093-88be-75d31b002dcf/resource/6ab6596e-170d-42e8-af93-9de024ebe36b/download/samp-2018.csv',\n",
              " '#',\n",
              " '/dataset/samp/resource/641003d6-4e87-4095-9416-ae5fbb5c94d3',\n",
              " 'https://dadosabertos.aneel.gov.br/dataset/3e153db4-a503-4093-88be-75d31b002dcf/resource/641003d6-4e87-4095-9416-ae5fbb5c94d3/download/samp-2019.csv',\n",
              " '#',\n",
              " '/dataset/samp/resource/29f9fec9-34dd-454b-8f3c-6b4ca5b22f2c',\n",
              " 'https://dadosabertos.aneel.gov.br/dataset/3e153db4-a503-4093-88be-75d31b002dcf/resource/29f9fec9-34dd-454b-8f3c-6b4ca5b22f2c/download/samp-2020.csv',\n",
              " '#',\n",
              " '/dataset/samp/resource/84906f77-0bb4-4527-b9a0-cb6c2b525661',\n",
              " 'https://dadosabertos.aneel.gov.br/dataset/3e153db4-a503-4093-88be-75d31b002dcf/resource/84906f77-0bb4-4527-b9a0-cb6c2b525661/download/samp-2021.csv',\n",
              " '#',\n",
              " '/dataset/samp/resource/7e097631-46ad-4051-8954-9ef8fb594fdc',\n",
              " 'https://dadosabertos.aneel.gov.br/dataset/3e153db4-a503-4093-88be-75d31b002dcf/resource/7e097631-46ad-4051-8954-9ef8fb594fdc/download/samp-2022.csv',\n",
              " '#',\n",
              " '/dataset/samp/resource/b9ad890b-d500-4294-bd36-1108acc54832',\n",
              " 'https://dadosabertos.aneel.gov.br/dataset/3e153db4-a503-4093-88be-75d31b002dcf/resource/b9ad890b-d500-4294-bd36-1108acc54832/download/samp-2023.csv',\n",
              " 'https://dadosabertos.aneel.gov.br/',\n",
              " '/about',\n",
              " 'http://docs.ckan.org/en/2.9/api/',\n",
              " 'http://www.ckan.org/',\n",
              " 'http://www.opendefinition.org/okd/']"
            ]
          },
          "metadata": {},
          "execution_count": 5
        }
      ],
      "source": [
        "urllist"
      ]
    },
    {
      "cell_type": "code",
      "execution_count": 6,
      "metadata": {
        "id": "-Od4_lABs4H1"
      },
      "outputs": [],
      "source": [
        "samp_list = []"
      ]
    },
    {
      "cell_type": "code",
      "execution_count": 7,
      "metadata": {
        "id": "KvNfyo4isHSs"
      },
      "outputs": [],
      "source": [
        "for item in urllist:\n",
        "  if item[-1] == 'v':\n",
        "    samp_list.append(item)"
      ]
    },
    {
      "cell_type": "code",
      "execution_count": 8,
      "metadata": {
        "colab": {
          "base_uri": "https://localhost:8080/"
        },
        "id": "G1MWzWWztAtd",
        "outputId": "c033edc9-338e-48cd-b688-0d511f4a0a26"
      },
      "outputs": [
        {
          "output_type": "execute_result",
          "data": {
            "text/plain": [
              "['https://dadosabertos.aneel.gov.br/dataset/3e153db4-a503-4093-88be-75d31b002dcf/resource/349ca6b0-8e1b-4e1e-991d-b3d9edf6e368/download/samp-2003.csv',\n",
              " 'https://dadosabertos.aneel.gov.br/dataset/3e153db4-a503-4093-88be-75d31b002dcf/resource/620bd3ee-7ad4-4e23-ae64-251e22a58303/download/samp-2004.csv',\n",
              " 'https://dadosabertos.aneel.gov.br/dataset/3e153db4-a503-4093-88be-75d31b002dcf/resource/81fb84e5-2305-41b4-bc97-7673bc327796/download/samp-2005.csv',\n",
              " 'https://dadosabertos.aneel.gov.br/dataset/3e153db4-a503-4093-88be-75d31b002dcf/resource/28fa2d25-233d-4a96-9345-fdc13fa76d6c/download/samp-2006.csv',\n",
              " 'https://dadosabertos.aneel.gov.br/dataset/3e153db4-a503-4093-88be-75d31b002dcf/resource/a8ea4590-2202-4b50-a32d-74b1dc1280a7/download/samp-2007.csv',\n",
              " 'https://dadosabertos.aneel.gov.br/dataset/3e153db4-a503-4093-88be-75d31b002dcf/resource/944c4215-96d1-4646-ac9b-8c8146168eca/download/samp-2008.csv',\n",
              " 'https://dadosabertos.aneel.gov.br/dataset/3e153db4-a503-4093-88be-75d31b002dcf/resource/0e414659-5840-4db3-8639-2ae678e15600/download/samp-2009.csv',\n",
              " 'https://dadosabertos.aneel.gov.br/dataset/3e153db4-a503-4093-88be-75d31b002dcf/resource/475a41c8-905d-46c6-8fc9-fe9a8a9c6868/download/samp-2010.csv',\n",
              " 'https://dadosabertos.aneel.gov.br/dataset/3e153db4-a503-4093-88be-75d31b002dcf/resource/9c25ad95-a433-482c-9847-4f7c5c2b3df0/download/samp-2011.csv',\n",
              " 'https://dadosabertos.aneel.gov.br/dataset/3e153db4-a503-4093-88be-75d31b002dcf/resource/b2f4411d-90db-4455-91c7-ebe399ba93c5/download/samp-2012.csv',\n",
              " 'https://dadosabertos.aneel.gov.br/dataset/3e153db4-a503-4093-88be-75d31b002dcf/resource/53fa913e-32bc-4765-b7c4-2c0544e33eb3/download/samp-2013.csv',\n",
              " 'https://dadosabertos.aneel.gov.br/dataset/3e153db4-a503-4093-88be-75d31b002dcf/resource/b53ee5a1-26f0-47f3-8dea-ae6894d714ac/download/samp-2014.csv',\n",
              " 'https://dadosabertos.aneel.gov.br/dataset/3e153db4-a503-4093-88be-75d31b002dcf/resource/1a35925f-8f7d-4074-973e-42dfbaa99636/download/samp-2015.csv',\n",
              " 'https://dadosabertos.aneel.gov.br/dataset/3e153db4-a503-4093-88be-75d31b002dcf/resource/f5421c87-81c5-42e4-bbf0-33af4cc98800/download/samp-2016.csv',\n",
              " 'https://dadosabertos.aneel.gov.br/dataset/3e153db4-a503-4093-88be-75d31b002dcf/resource/4a84f3c8-9dc8-4448-bba8-cc2dfbc26ca2/download/samp-2017.csv',\n",
              " 'https://dadosabertos.aneel.gov.br/dataset/3e153db4-a503-4093-88be-75d31b002dcf/resource/6ab6596e-170d-42e8-af93-9de024ebe36b/download/samp-2018.csv',\n",
              " 'https://dadosabertos.aneel.gov.br/dataset/3e153db4-a503-4093-88be-75d31b002dcf/resource/641003d6-4e87-4095-9416-ae5fbb5c94d3/download/samp-2019.csv',\n",
              " 'https://dadosabertos.aneel.gov.br/dataset/3e153db4-a503-4093-88be-75d31b002dcf/resource/29f9fec9-34dd-454b-8f3c-6b4ca5b22f2c/download/samp-2020.csv',\n",
              " 'https://dadosabertos.aneel.gov.br/dataset/3e153db4-a503-4093-88be-75d31b002dcf/resource/84906f77-0bb4-4527-b9a0-cb6c2b525661/download/samp-2021.csv',\n",
              " 'https://dadosabertos.aneel.gov.br/dataset/3e153db4-a503-4093-88be-75d31b002dcf/resource/7e097631-46ad-4051-8954-9ef8fb594fdc/download/samp-2022.csv',\n",
              " 'https://dadosabertos.aneel.gov.br/dataset/3e153db4-a503-4093-88be-75d31b002dcf/resource/b9ad890b-d500-4294-bd36-1108acc54832/download/samp-2023.csv']"
            ]
          },
          "metadata": {},
          "execution_count": 8
        }
      ],
      "source": [
        "samp_list"
      ]
    },
    {
      "cell_type": "code",
      "execution_count": 9,
      "metadata": {
        "id": "tX565a1VuJgs"
      },
      "outputs": [],
      "source": [
        "response = requests.get(samp_list[-1])"
      ]
    },
    {
      "cell_type": "code",
      "execution_count": 10,
      "metadata": {
        "id": "O0dz2S3Pu2s1"
      },
      "outputs": [],
      "source": [
        "name = samp_list[-1]"
      ]
    },
    {
      "cell_type": "code",
      "execution_count": 11,
      "metadata": {
        "colab": {
          "base_uri": "https://localhost:8080/",
          "height": 35
        },
        "id": "1an18Sx5vKkd",
        "outputId": "912d02f8-e15e-43ce-ae94-601915b313f2"
      },
      "outputs": [
        {
          "output_type": "execute_result",
          "data": {
            "text/plain": [
              "'samp-2023.csv'"
            ],
            "application/vnd.google.colaboratory.intrinsic+json": {
              "type": "string"
            }
          },
          "metadata": {},
          "execution_count": 11
        }
      ],
      "source": [
        "for i in name.split('/'):\n",
        "  fileName = i\n",
        "fileName"
      ]
    },
    {
      "cell_type": "code",
      "execution_count": 12,
      "metadata": {
        "id": "0WbPNTdbuYBq"
      },
      "outputs": [],
      "source": [
        "a = open(fileName, \"wb\").write(response.content)"
      ]
    },
    {
      "cell_type": "code",
      "execution_count": 13,
      "metadata": {
        "id": "p1daSm6byt4r"
      },
      "outputs": [],
      "source": [
        "samp_path = '/content/'"
      ]
    },
    {
      "cell_type": "code",
      "source": [
        "with open(fileName, 'rb') as f:\n",
        "    enc = chardet.detect(f.read())"
      ],
      "metadata": {
        "id": "Ju0-rI665M8B"
      },
      "execution_count": 14,
      "outputs": []
    },
    {
      "cell_type": "code",
      "execution_count": 15,
      "metadata": {
        "colab": {
          "base_uri": "https://localhost:8080/"
        },
        "id": "R_9zQPkpwcEY",
        "outputId": "ff02ff5f-eb64-4edd-e587-4ee7f81e50f6"
      },
      "outputs": [
        {
          "output_type": "stream",
          "name": "stderr",
          "text": [
            "<ipython-input-15-d578d38b156e>:1: DtypeWarning: Columns (1,10,11) have mixed types. Specify dtype option on import or set low_memory=False.\n",
            "  sampFile = pd.read_csv( samp_path + fileName, encoding = enc['encoding'], sep=';', header=None)\n"
          ]
        }
      ],
      "source": [
        "sampFile = pd.read_csv( samp_path + fileName, encoding = enc['encoding'], sep=';', header=None)"
      ]
    },
    {
      "cell_type": "code",
      "source": [
        "files.download(fileName)"
      ],
      "metadata": {
        "colab": {
          "base_uri": "https://localhost:8080/",
          "height": 17
        },
        "id": "1pjB4LJ-7Au5",
        "outputId": "89ef75be-68ea-4d25-a3b6-64118f29c39e"
      },
      "execution_count": 16,
      "outputs": [
        {
          "output_type": "display_data",
          "data": {
            "text/plain": [
              "<IPython.core.display.Javascript object>"
            ],
            "application/javascript": [
              "\n",
              "    async function download(id, filename, size) {\n",
              "      if (!google.colab.kernel.accessAllowed) {\n",
              "        return;\n",
              "      }\n",
              "      const div = document.createElement('div');\n",
              "      const label = document.createElement('label');\n",
              "      label.textContent = `Downloading \"${filename}\": `;\n",
              "      div.appendChild(label);\n",
              "      const progress = document.createElement('progress');\n",
              "      progress.max = size;\n",
              "      div.appendChild(progress);\n",
              "      document.body.appendChild(div);\n",
              "\n",
              "      const buffers = [];\n",
              "      let downloaded = 0;\n",
              "\n",
              "      const channel = await google.colab.kernel.comms.open(id);\n",
              "      // Send a message to notify the kernel that we're ready.\n",
              "      channel.send({})\n",
              "\n",
              "      for await (const message of channel.messages) {\n",
              "        // Send a message to notify the kernel that we're ready.\n",
              "        channel.send({})\n",
              "        if (message.buffers) {\n",
              "          for (const buffer of message.buffers) {\n",
              "            buffers.push(buffer);\n",
              "            downloaded += buffer.byteLength;\n",
              "            progress.value = downloaded;\n",
              "          }\n",
              "        }\n",
              "      }\n",
              "      const blob = new Blob(buffers, {type: 'application/binary'});\n",
              "      const a = document.createElement('a');\n",
              "      a.href = window.URL.createObjectURL(blob);\n",
              "      a.download = filename;\n",
              "      div.appendChild(a);\n",
              "      a.click();\n",
              "      div.remove();\n",
              "    }\n",
              "  "
            ]
          },
          "metadata": {}
        },
        {
          "output_type": "display_data",
          "data": {
            "text/plain": [
              "<IPython.core.display.Javascript object>"
            ],
            "application/javascript": [
              "download(\"download_705f0be6-80fb-4c43-b9fc-001e8c0d4aff\", \"samp-2023.csv\", 20233056)"
            ]
          },
          "metadata": {}
        }
      ]
    }
  ],
  "metadata": {
    "colab": {
      "provenance": []
    },
    "kernelspec": {
      "display_name": "Python 3",
      "name": "python3"
    },
    "language_info": {
      "name": "python"
    }
  },
  "nbformat": 4,
  "nbformat_minor": 0
}